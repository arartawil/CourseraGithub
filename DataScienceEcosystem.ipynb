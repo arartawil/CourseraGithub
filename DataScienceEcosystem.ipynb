{
  "cells": [
    {
      "cell_type": "markdown",
      "metadata": {
        "id": "DYbr8VxSVIH1"
      },
      "source": [
        "<center>\n",
        "    <img src=\"https://cf-courses-data.s3.us.cloud-object-storage.appdomain.cloud/IBMDeveloperSkillsNetwork-DS0105EN-SkillsNetwork/labs/Module2/images/SN_web_lightmode.png\" width=\"300\" alt=\"cognitiveclass.ai logo\">\n",
        "</center>\n"
      ]
    },
    {
      "cell_type": "markdown",
      "source": [
        "# **Data Science Tools and Ecosystem**"
      ],
      "metadata": {
        "id": "DLs6DBdoVPkv"
      }
    },
    {
      "cell_type": "markdown",
      "source": [
        "**Data science is a rapidly evolving field that focuses on extracting insights and knowledge from data to drive informed decision-making. To tackle the challenges of analyzing and interpreting vast amounts of data, data scientists rely on a diverse set of tools and a well-established ecosystem. These tools and the broader ecosystem provide the necessary infrastructure, frameworks, and libraries to support the entire data science workflow.**"
      ],
      "metadata": {
        "id": "6OfUUrjaWBFf"
      }
    },
    {
      "cell_type": "markdown",
      "source": [
        "# **Some of the popular languages that Data Scientists use are:**"
      ],
      "metadata": {
        "id": "TfRdktWRWVLf"
      }
    },
    {
      "cell_type": "markdown",
      "source": [
        "\n",
        "\n",
        "1.   Python\n",
        "2.   R\n",
        "3.   SQL\n",
        "4.   Julia\n",
        "\n"
      ],
      "metadata": {
        "id": "avUKUD_YWXhG"
      }
    },
    {
      "cell_type": "markdown",
      "source": [
        "# **Some of the commonly used libraries used by Data Scientists include:**\n",
        "\n",
        "\n",
        "\n",
        "1.   Pandas\n",
        "2.   Numpy\n",
        "3.   mathplot\n",
        "4.   NLP\n",
        "\n",
        "\n"
      ],
      "metadata": {
        "id": "-nm3f6OjXCVO"
      }
    },
    {
      "cell_type": "markdown",
      "source": [
        "# **Data Science Tools**\n",
        "\n",
        "| Data Science Tools |\n",
        "|-------------------|\n",
        "| Jupyter Notebook  |\n",
        "| RStudio           |\n",
        "| Visual Studio Code|\n"
      ],
      "metadata": {
        "id": "ta0hdDw9XZX-"
      }
    },
    {
      "cell_type": "markdown",
      "source": [
        "### Arithmetic Expression Examples\n",
        "\n",
        "Arithmetic expressions involve mathematical operations such as addition, subtraction, multiplication, and division. These expressions allow us to perform calculations and manipulate numerical values. Here are some examples of arithmetic expressions:\n",
        "\n",
        "1. Addition:\n",
        "   - `2 + 3` equals 5\n",
        "   - `10.5 + 7` equals 17.5\n",
        "\n",
        "2. Subtraction:\n",
        "   - `8 - 4` equals 4\n",
        "   - `15.2 - 6.7` equals 8.5\n",
        "\n",
        "3. Multiplication:\n",
        "   - `5 * 6` equals 30\n",
        "   - `2.5 * 4.8` equals 12\n",
        "\n",
        "4. Division:\n",
        "   - `10 / 2` equals 5\n",
        "   - `15.6 / 3.2` equals 4.875\n",
        "\n",
        "Arithmetic expressions can also involve parentheses to prioritize operations and achieve desired calculations:\n",
        "\n",
        "- `(4 + 3) * 2` equals 14\n",
        "- `8 / (2 + 2)` equals 2\n",
        "\n",
        "These examples showcase basic arithmetic operations, but arithmetic expressions can become more complex with the inclusion of variables, functions, and advanced mathematical concepts.\n"
      ],
      "metadata": {
        "id": "M4oUCYCEX2Vu"
      }
    },
    {
      "cell_type": "code",
      "source": [
        "#This a simple arithmetic expression to mutiply then add integers\n",
        "print((3*4)+5) "
      ],
      "metadata": {
        "colab": {
          "base_uri": "https://localhost:8080/"
        },
        "id": "BoXLGpDwYTTe",
        "outputId": "48fccab9-774e-421e-923b-5b93d0d094ca"
      },
      "execution_count": 2,
      "outputs": [
        {
          "output_type": "stream",
          "name": "stdout",
          "text": [
            "17\n"
          ]
        }
      ]
    },
    {
      "cell_type": "markdown",
      "source": [
        "# This will convert 200 minutes to hours by diving by 60"
      ],
      "metadata": {
        "id": "DUKniHZ0YxjT"
      }
    },
    {
      "cell_type": "code",
      "source": [
        "\n",
        "minutes = 200\n",
        "hours = minutes / 60\n",
        "\n",
        "print(hours)\n"
      ],
      "metadata": {
        "colab": {
          "base_uri": "https://localhost:8080/"
        },
        "id": "p3IFBlfwYrBK",
        "outputId": "7024fb80-d1ff-45bf-dff8-b0ec824ff7aa"
      },
      "execution_count": 3,
      "outputs": [
        {
          "output_type": "stream",
          "name": "stdout",
          "text": [
            "3.3333333333333335\n"
          ]
        }
      ]
    },
    {
      "cell_type": "markdown",
      "source": [
        "**Objectives:**\n",
        "\n",
        "- List popular languages for Data Science.\n",
        "- Explore commonly used libraries in Data Science.\n",
        "- Understand arithmetic expression examples.\n",
        "- Introduce key takeaways from the course.\n"
      ],
      "metadata": {
        "id": "-NOxBUqoZD3P"
      }
    },
    {
      "cell_type": "markdown",
      "source": [
        "## Author\n",
        "Arar Al Tawil\n"
      ],
      "metadata": {
        "id": "1IqnzCWmZTTH"
      }
    }
  ],
  "metadata": {
    "kernelspec": {
      "display_name": "Python",
      "language": "python",
      "name": "conda-env-python-py"
    },
    "language_info": {
      "name": ""
    },
    "colab": {
      "provenance": []
    }
  },
  "nbformat": 4,
  "nbformat_minor": 0
}